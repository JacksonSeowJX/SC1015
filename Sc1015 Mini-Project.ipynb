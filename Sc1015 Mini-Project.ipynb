{
 "cells": [
  {
   "cell_type": "markdown",
   "id": "1169069c",
   "metadata": {},
   "source": [
    "# SC1015 Project - Premier League Dataset"
   ]
  },
  {
   "cell_type": "code",
   "execution_count": 3,
   "id": "0bce862d",
   "metadata": {},
   "outputs": [],
   "source": [
    "# Basic Libraries\n",
    "import numpy as np\n",
    "import pandas as pd\n",
    "import seaborn as sb\n",
    "import matplotlib.pyplot as plt # we only need pyplot\n",
    "sb.set() # set the default Seaborn style for graphics"
   ]
  },
  {
   "cell_type": "code",
   "execution_count": 4,
   "id": "4a88337d",
   "metadata": {
    "scrolled": true
   },
   "outputs": [
    {
     "data": {
      "text/html": [
       "<div>\n",
       "<style scoped>\n",
       "    .dataframe tbody tr th:only-of-type {\n",
       "        vertical-align: middle;\n",
       "    }\n",
       "\n",
       "    .dataframe tbody tr th {\n",
       "        vertical-align: top;\n",
       "    }\n",
       "\n",
       "    .dataframe thead th {\n",
       "        text-align: right;\n",
       "    }\n",
       "</style>\n",
       "<table border=\"1\" class=\"dataframe\">\n",
       "  <thead>\n",
       "    <tr style=\"text-align: right;\">\n",
       "      <th></th>\n",
       "      <th>team</th>\n",
       "      <th>wins</th>\n",
       "      <th>losses</th>\n",
       "      <th>goals</th>\n",
       "      <th>total_yel_card</th>\n",
       "      <th>total_red_card</th>\n",
       "      <th>total_scoring_att</th>\n",
       "      <th>ontarget_scoring_att</th>\n",
       "      <th>hit_woodwork</th>\n",
       "      <th>att_hd_goal</th>\n",
       "      <th>...</th>\n",
       "      <th>total_cross</th>\n",
       "      <th>corner_taken</th>\n",
       "      <th>touches</th>\n",
       "      <th>big_chance_missed</th>\n",
       "      <th>clearance_off_line</th>\n",
       "      <th>dispossessed</th>\n",
       "      <th>penalty_save</th>\n",
       "      <th>total_high_claim</th>\n",
       "      <th>punches</th>\n",
       "      <th>season</th>\n",
       "    </tr>\n",
       "  </thead>\n",
       "  <tbody>\n",
       "    <tr>\n",
       "      <th>0</th>\n",
       "      <td>Manchester United</td>\n",
       "      <td>28.0</td>\n",
       "      <td>5.0</td>\n",
       "      <td>83.0</td>\n",
       "      <td>60.0</td>\n",
       "      <td>1.0</td>\n",
       "      <td>698.0</td>\n",
       "      <td>256.0</td>\n",
       "      <td>21.0</td>\n",
       "      <td>12.0</td>\n",
       "      <td>...</td>\n",
       "      <td>918.0</td>\n",
       "      <td>258.0</td>\n",
       "      <td>25686.0</td>\n",
       "      <td>NaN</td>\n",
       "      <td>1.0</td>\n",
       "      <td>NaN</td>\n",
       "      <td>2.0</td>\n",
       "      <td>37.0</td>\n",
       "      <td>25.0</td>\n",
       "      <td>2006-2007</td>\n",
       "    </tr>\n",
       "    <tr>\n",
       "      <th>1</th>\n",
       "      <td>Chelsea</td>\n",
       "      <td>24.0</td>\n",
       "      <td>3.0</td>\n",
       "      <td>64.0</td>\n",
       "      <td>62.0</td>\n",
       "      <td>4.0</td>\n",
       "      <td>636.0</td>\n",
       "      <td>216.0</td>\n",
       "      <td>14.0</td>\n",
       "      <td>16.0</td>\n",
       "      <td>...</td>\n",
       "      <td>897.0</td>\n",
       "      <td>231.0</td>\n",
       "      <td>24010.0</td>\n",
       "      <td>NaN</td>\n",
       "      <td>2.0</td>\n",
       "      <td>NaN</td>\n",
       "      <td>1.0</td>\n",
       "      <td>74.0</td>\n",
       "      <td>22.0</td>\n",
       "      <td>2006-2007</td>\n",
       "    </tr>\n",
       "    <tr>\n",
       "      <th>2</th>\n",
       "      <td>Liverpool</td>\n",
       "      <td>20.0</td>\n",
       "      <td>10.0</td>\n",
       "      <td>57.0</td>\n",
       "      <td>44.0</td>\n",
       "      <td>0.0</td>\n",
       "      <td>668.0</td>\n",
       "      <td>214.0</td>\n",
       "      <td>15.0</td>\n",
       "      <td>8.0</td>\n",
       "      <td>...</td>\n",
       "      <td>1107.0</td>\n",
       "      <td>282.0</td>\n",
       "      <td>24150.0</td>\n",
       "      <td>NaN</td>\n",
       "      <td>1.0</td>\n",
       "      <td>NaN</td>\n",
       "      <td>0.0</td>\n",
       "      <td>51.0</td>\n",
       "      <td>27.0</td>\n",
       "      <td>2006-2007</td>\n",
       "    </tr>\n",
       "    <tr>\n",
       "      <th>3</th>\n",
       "      <td>Arsenal</td>\n",
       "      <td>19.0</td>\n",
       "      <td>8.0</td>\n",
       "      <td>63.0</td>\n",
       "      <td>59.0</td>\n",
       "      <td>3.0</td>\n",
       "      <td>638.0</td>\n",
       "      <td>226.0</td>\n",
       "      <td>19.0</td>\n",
       "      <td>10.0</td>\n",
       "      <td>...</td>\n",
       "      <td>873.0</td>\n",
       "      <td>278.0</td>\n",
       "      <td>25592.0</td>\n",
       "      <td>NaN</td>\n",
       "      <td>1.0</td>\n",
       "      <td>NaN</td>\n",
       "      <td>0.0</td>\n",
       "      <td>88.0</td>\n",
       "      <td>27.0</td>\n",
       "      <td>2006-2007</td>\n",
       "    </tr>\n",
       "    <tr>\n",
       "      <th>4</th>\n",
       "      <td>Tottenham Hotspur</td>\n",
       "      <td>17.0</td>\n",
       "      <td>12.0</td>\n",
       "      <td>57.0</td>\n",
       "      <td>48.0</td>\n",
       "      <td>3.0</td>\n",
       "      <td>520.0</td>\n",
       "      <td>184.0</td>\n",
       "      <td>6.0</td>\n",
       "      <td>5.0</td>\n",
       "      <td>...</td>\n",
       "      <td>796.0</td>\n",
       "      <td>181.0</td>\n",
       "      <td>22200.0</td>\n",
       "      <td>NaN</td>\n",
       "      <td>2.0</td>\n",
       "      <td>NaN</td>\n",
       "      <td>0.0</td>\n",
       "      <td>51.0</td>\n",
       "      <td>24.0</td>\n",
       "      <td>2006-2007</td>\n",
       "    </tr>\n",
       "  </tbody>\n",
       "</table>\n",
       "<p>5 rows × 42 columns</p>\n",
       "</div>"
      ],
      "text/plain": [
       "                team  wins  losses  goals  total_yel_card  total_red_card  \\\n",
       "0  Manchester United  28.0     5.0   83.0            60.0             1.0   \n",
       "1            Chelsea  24.0     3.0   64.0            62.0             4.0   \n",
       "2          Liverpool  20.0    10.0   57.0            44.0             0.0   \n",
       "3            Arsenal  19.0     8.0   63.0            59.0             3.0   \n",
       "4  Tottenham Hotspur  17.0    12.0   57.0            48.0             3.0   \n",
       "\n",
       "   total_scoring_att  ontarget_scoring_att  hit_woodwork  att_hd_goal  ...  \\\n",
       "0              698.0                 256.0          21.0         12.0  ...   \n",
       "1              636.0                 216.0          14.0         16.0  ...   \n",
       "2              668.0                 214.0          15.0          8.0  ...   \n",
       "3              638.0                 226.0          19.0         10.0  ...   \n",
       "4              520.0                 184.0           6.0          5.0  ...   \n",
       "\n",
       "   total_cross  corner_taken  touches  big_chance_missed  clearance_off_line  \\\n",
       "0        918.0         258.0  25686.0                NaN                 1.0   \n",
       "1        897.0         231.0  24010.0                NaN                 2.0   \n",
       "2       1107.0         282.0  24150.0                NaN                 1.0   \n",
       "3        873.0         278.0  25592.0                NaN                 1.0   \n",
       "4        796.0         181.0  22200.0                NaN                 2.0   \n",
       "\n",
       "   dispossessed  penalty_save  total_high_claim  punches     season  \n",
       "0           NaN           2.0              37.0     25.0  2006-2007  \n",
       "1           NaN           1.0              74.0     22.0  2006-2007  \n",
       "2           NaN           0.0              51.0     27.0  2006-2007  \n",
       "3           NaN           0.0              88.0     27.0  2006-2007  \n",
       "4           NaN           0.0              51.0     24.0  2006-2007  \n",
       "\n",
       "[5 rows x 42 columns]"
      ]
     },
     "execution_count": 4,
     "metadata": {},
     "output_type": "execute_result"
    }
   ],
   "source": [
    "resultsData = pd.read_csv('results.csv')\n",
    "statsData = pd.read_csv('stats.csv')\n",
    "statsData.head()"
   ]
  },
  {
   "cell_type": "code",
   "execution_count": null,
   "id": "5d478e2b",
   "metadata": {},
   "outputs": [],
   "source": []
  },
  {
   "cell_type": "markdown",
   "id": "fe694387",
   "metadata": {},
   "source": [
    "## Total of 240 Rows and 42 Columns in stats.CSV file\n",
    "\n",
    "### 2 Categorical Variables, 40 Numeric Variables"
   ]
  },
  {
   "cell_type": "code",
   "execution_count": 8,
   "id": "7bc90b8f",
   "metadata": {},
   "outputs": [
    {
     "name": "stdout",
     "output_type": "stream",
     "text": [
      "<class 'pandas.core.frame.DataFrame'>\n",
      "RangeIndex: 240 entries, 0 to 239\n",
      "Data columns (total 42 columns):\n",
      " #   Column                Non-Null Count  Dtype  \n",
      "---  ------                --------------  -----  \n",
      " 0   team                  240 non-null    object \n",
      " 1   wins                  240 non-null    float64\n",
      " 2   losses                240 non-null    float64\n",
      " 3   goals                 240 non-null    float64\n",
      " 4   total_yel_card        240 non-null    float64\n",
      " 5   total_red_card        240 non-null    float64\n",
      " 6   total_scoring_att     240 non-null    float64\n",
      " 7   ontarget_scoring_att  240 non-null    float64\n",
      " 8   hit_woodwork          240 non-null    float64\n",
      " 9   att_hd_goal           240 non-null    float64\n",
      " 10  att_pen_goal          240 non-null    float64\n",
      " 11  att_freekick_goal     240 non-null    float64\n",
      " 12  att_ibox_goal         240 non-null    float64\n",
      " 13  att_obox_goal         240 non-null    float64\n",
      " 14  goal_fastbreak        240 non-null    float64\n",
      " 15  total_offside         240 non-null    float64\n",
      " 16  clean_sheet           240 non-null    float64\n",
      " 17  goals_conceded        240 non-null    float64\n",
      " 18  saves                 220 non-null    float64\n",
      " 19  outfielder_block      240 non-null    float64\n",
      " 20  interception          240 non-null    float64\n",
      " 21  total_tackle          240 non-null    float64\n",
      " 22  last_man_tackle       240 non-null    float64\n",
      " 23  total_clearance       240 non-null    float64\n",
      " 24  head_clearance        220 non-null    float64\n",
      " 25  own_goals             240 non-null    float64\n",
      " 26  penalty_conceded      240 non-null    float64\n",
      " 27  pen_goals_conceded    240 non-null    float64\n",
      " 28  total_pass            240 non-null    float64\n",
      " 29  total_through_ball    220 non-null    float64\n",
      " 30  total_long_balls      240 non-null    float64\n",
      " 31  backward_pass         160 non-null    float64\n",
      " 32  total_cross           240 non-null    float64\n",
      " 33  corner_taken          240 non-null    float64\n",
      " 34  touches               240 non-null    float64\n",
      " 35  big_chance_missed     160 non-null    float64\n",
      " 36  clearance_off_line    240 non-null    float64\n",
      " 37  dispossessed          220 non-null    float64\n",
      " 38  penalty_save          240 non-null    float64\n",
      " 39  total_high_claim      240 non-null    float64\n",
      " 40  punches               240 non-null    float64\n",
      " 41  season                240 non-null    object \n",
      "dtypes: float64(40), object(2)\n",
      "memory usage: 78.9+ KB\n"
     ]
    },
    {
     "data": {
      "text/plain": [
       "(240, 42)"
      ]
     },
     "execution_count": 8,
     "metadata": {},
     "output_type": "execute_result"
    }
   ],
   "source": [
    "statsData.info()\n",
    "statsData.shape"
   ]
  },
  {
   "cell_type": "code",
   "execution_count": null,
   "id": "4b4dcd99",
   "metadata": {},
   "outputs": [],
   "source": []
  },
  {
   "cell_type": "markdown",
   "id": "77e260e6",
   "metadata": {},
   "source": [
    "## Check for any missing values in the stats Dataframe"
   ]
  },
  {
   "cell_type": "code",
   "execution_count": 13,
   "id": "9ea990eb",
   "metadata": {},
   "outputs": [
    {
     "name": "stdout",
     "output_type": "stream",
     "text": [
      "team                     0\n",
      "wins                     0\n",
      "losses                   0\n",
      "goals                    0\n",
      "total_yel_card           0\n",
      "total_red_card           0\n",
      "total_scoring_att        0\n",
      "ontarget_scoring_att     0\n",
      "hit_woodwork             0\n",
      "att_hd_goal              0\n",
      "att_pen_goal             0\n",
      "att_freekick_goal        0\n",
      "att_ibox_goal            0\n",
      "att_obox_goal            0\n",
      "goal_fastbreak           0\n",
      "total_offside            0\n",
      "clean_sheet              0\n",
      "goals_conceded           0\n",
      "saves                   20\n",
      "outfielder_block         0\n",
      "interception             0\n",
      "total_tackle             0\n",
      "last_man_tackle          0\n",
      "total_clearance          0\n",
      "head_clearance          20\n",
      "own_goals                0\n",
      "penalty_conceded         0\n",
      "pen_goals_conceded       0\n",
      "total_pass               0\n",
      "total_through_ball      20\n",
      "total_long_balls         0\n",
      "backward_pass           80\n",
      "total_cross              0\n",
      "corner_taken             0\n",
      "touches                  0\n",
      "big_chance_missed       80\n",
      "clearance_off_line       0\n",
      "dispossessed            20\n",
      "penalty_save             0\n",
      "total_high_claim         0\n",
      "punches                  0\n",
      "season                   0\n",
      "dtype: int64\n",
      "\n",
      "Columns with missing values and their count:\n",
      "saves                 20\n",
      "head_clearance        20\n",
      "total_through_ball    20\n",
      "backward_pass         80\n",
      "big_chance_missed     80\n",
      "dispossessed          20\n",
      "dtype: int64\n"
     ]
    }
   ],
   "source": [
    "statsDataFrame = pd.DataFrame(statsData)\n",
    "\n",
    "# Check for missing values in each column\n",
    "missing_values = statsDataFrame.isnull().sum()\n",
    "\n",
    "# Print the number of missing values for each column\n",
    "print(missing_values)\n",
    "print()\n",
    "\n",
    "# Filter out columns that have missing values and print them\n",
    "missing_values_filtered = missing_values[missing_values > 0]\n",
    "if len(missing_values_filtered) > 0:\n",
    "    print(\"Columns with missing values and their count:\")\n",
    "    print(missing_values_filtered)\n",
    "else:\n",
    "    print(\"There are no missing values in any column.\")"
   ]
  },
  {
   "cell_type": "code",
   "execution_count": null,
   "id": "2a3e0ddf",
   "metadata": {},
   "outputs": [],
   "source": []
  },
  {
   "cell_type": "markdown",
   "id": "05febe2b",
   "metadata": {},
   "source": [
    "## Check the skewness for each of the columns with missing values\n",
    "\n",
    "### Total of 6 columns with missing values will be placed in a pd DataFrame"
   ]
  },
  {
   "cell_type": "code",
   "execution_count": 16,
   "id": "1c121500",
   "metadata": {},
   "outputs": [
    {
     "data": {
      "text/plain": [
       "saves                 0.392526\n",
       "head_clearance        0.519139\n",
       "total_through_ball    1.725295\n",
       "backward_pass         0.713525\n",
       "big_chance_missed     1.065818\n",
       "dispossessed          0.639976\n",
       "dtype: float64"
      ]
     },
     "execution_count": 16,
     "metadata": {},
     "output_type": "execute_result"
    }
   ],
   "source": [
    "missingValueColumns = pd.DataFrame(statsDataFrame[['saves', 'head_clearance', 'total_through_ball', 'backward_pass', 'big_chance_missed', 'dispossessed']])\n",
    "missingValueColumns.skew()"
   ]
  },
  {
   "cell_type": "markdown",
   "id": "680d892b",
   "metadata": {},
   "source": [
    "### Analysis:\n",
    "\n",
    "saves (0.392526): This shows a moderate positive skew, suggesting that most of the data are concentrated on the lower end, with fewer high values extending the tail to the right.\n",
    "\n",
    "head_clearance (0.519139): Also indicates a moderate positive skew. Similar to \"saves\", most data points are lower, with some high values stretching the distribution to the right.\n",
    "\n",
    "total_through_ball (1.725295): This has a high positive skewness, indicating a significant number of lower values and a long tail towards the higher values. This suggests that very high values are relatively rare but significantly impact the distribution's shape.\n",
    "\n",
    "backward_pass (0.713525): Shows a positive skew but less extreme than total_through_ball. It indicates a concentration of data towards lower values with a tail of higher values.\n",
    "\n",
    "big_chance_missed (1.065818): With a positive skewness greater than 1, this distribution has a long right tail. There are significantly more lower values, with the higher values stretching the distribution.\n",
    "\n",
    "dispossessed (0.639976): Exhibits a moderate positive skew, indicating a concentration of lower values with a tail of higher values, but not as pronounced as total_through_ball or big_chance_missed."
   ]
  },
  {
   "cell_type": "code",
   "execution_count": null,
   "id": "07788fe0",
   "metadata": {},
   "outputs": [],
   "source": []
  },
  {
   "cell_type": "code",
   "execution_count": null,
   "id": "7f41ad4a",
   "metadata": {},
   "outputs": [],
   "source": []
  },
  {
   "cell_type": "code",
   "execution_count": null,
   "id": "34f4ef6f",
   "metadata": {},
   "outputs": [],
   "source": []
  },
  {
   "cell_type": "markdown",
   "id": "2f9d9fa7",
   "metadata": {},
   "source": [
    "## Adding of new column \"Draw\" to the statsDataFrame\n",
    "\n",
    "### Upon reviewing the statsDataFrame, we noticed the absence of a \"draw\" column that would reflect the number of draws a football team had during the season. Considering each team plays 38 matches annually, we computed the \"draw\" figures by deducting the sum of wins and losses from 38. After calculating this data, we would integrate this new \"draw\" column into the existing dataFrame."
   ]
  },
  {
   "cell_type": "code",
   "execution_count": 25,
   "id": "5385698e",
   "metadata": {},
   "outputs": [
    {
     "data": {
      "text/plain": [
       "(240, 43)"
      ]
     },
     "execution_count": 25,
     "metadata": {},
     "output_type": "execute_result"
    }
   ],
   "source": [
    "# Calculate the \"draw\" column first\n",
    "statsDataFrame['draw'] = 38 - statsDataFrame['wins'] - statsDataFrame['losses']\n",
    "\n",
    "# Get the position of the 'losses' column\n",
    "# The new column will be inserted at position + 1\n",
    "position = statsDataFrame.columns.get_loc('losses') + 1\n",
    "\n",
    "# Insert the 'draw' column next to 'losses'\n",
    "statsDataFrame.insert(position, 'draw_temp', statsDataFrame['draw'])\n",
    "\n",
    "# Drop the original 'draw' column and rename 'draw_temp' to 'draw'\n",
    "statsDataFrame.drop('draw', axis=1, inplace=True)\n",
    "statsDataFrame.rename(columns={'draw_temp': 'draw'}, inplace=True)\n",
    "\n",
    "statsDataFrame.shape"
   ]
  },
  {
   "cell_type": "markdown",
   "id": "b2670e5b",
   "metadata": {},
   "source": [
    "### statsDataFrame now has 43 columns and 240 rows"
   ]
  },
  {
   "cell_type": "code",
   "execution_count": null,
   "id": "b86e09e0",
   "metadata": {},
   "outputs": [],
   "source": []
  },
  {
   "cell_type": "code",
   "execution_count": null,
   "id": "e524b546",
   "metadata": {},
   "outputs": [],
   "source": []
  }
 ],
 "metadata": {
  "kernelspec": {
   "display_name": "Python 3 (ipykernel)",
   "language": "python",
   "name": "python3"
  },
  "language_info": {
   "codemirror_mode": {
    "name": "ipython",
    "version": 3
   },
   "file_extension": ".py",
   "mimetype": "text/x-python",
   "name": "python",
   "nbconvert_exporter": "python",
   "pygments_lexer": "ipython3",
   "version": "3.11.5"
  }
 },
 "nbformat": 4,
 "nbformat_minor": 5
}
